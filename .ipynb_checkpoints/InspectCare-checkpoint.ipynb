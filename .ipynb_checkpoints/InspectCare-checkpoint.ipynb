{
 "cells": [
  {
   "cell_type": "markdown",
   "metadata": {},
   "source": [
    "# InspectCare: Using online activity to identify illegal childcare operations"
   ]
  },
  {
   "cell_type": "markdown",
   "metadata": {},
   "source": [
    "Import packages and define functions."
   ]
  },
  {
   "cell_type": "code",
   "execution_count": 136,
   "metadata": {
    "collapsed": true
   },
   "outputs": [],
   "source": [
    "%matplotlib inline\n",
    "from sqlalchemy import create_engine\n",
    "from sqlalchemy_utils import database_exists, create_database\n",
    "import psycopg2\n",
    "import pandas as pd\n",
    "import numpy as np\n",
    "import spacy\n",
    "nlp = spacy.load('en')\n",
    "import matplotlib\n",
    "import matplotlib.pyplot as plt\n",
    "plt.style.use('ggplot')\n",
    "from scipy import stats\n",
    "import time\n",
    "import scrapy\n",
    "import json\n",
    "import os\n",
    "import io\n",
    "from bs4 import BeautifulSoup\n",
    "import urllib2\n",
    "import nltk\n",
    "from nltk import ne_chunk, pos_tag, word_tokenize\n",
    "from nltk.tree import Tree\n",
    "from fuzzywuzzy import fuzz\n",
    "from fuzzywuzzy import process\n",
    "#from sklearn.metrics import accuracy_score, recall_score, precision_score\n",
    "from sklearn import metrics\n",
    "from sklearn.feature_extraction.text import CountVectorizer\n",
    "from sklearn.cross_validation import train_test_split\n",
    "from sklearn.naive_bayes import MultinomialNB\n",
    "from sklearn.pipeline import Pipeline\n",
    "from sklearn.feature_extraction.text import TfidfVectorizer\n",
    "from sklearn.linear_model import LogisticRegression\n",
    "from sklearn import svm\n",
    "from sklearn.model_selection import cross_val_score\n",
    "from sklearn.model_selection import learning_curve\n",
    "from sklearn import cross_validation\n",
    "import string\n",
    "import collections\n",
    "from nltk import word_tokenize\n",
    "from nltk.stem import PorterStemmer\n",
    "from nltk.corpus import stopwords\n",
    "from sklearn.cluster import KMeans\n",
    "from pprint import pprint\n",
    "import itertools\n",
    "import seaborn"
   ]
  },
  {
   "cell_type": "code",
   "execution_count": 9,
   "metadata": {
    "collapsed": true
   },
   "outputs": [],
   "source": [
    "def first_classifier(text):\n",
    "    if text.lower().count('nanny') | text.lower().count('nannies') | text.lower().count('babysitting') | text.lower().count('sitter'):\n",
    "        return 'b'\n",
    "    elif text.lower().count('childcare') | text.lower().count('daycare') | text.lower().count('child care') | text.lower().count('day care'):\n",
    "        return 'a'\n",
    "    else:\n",
    "        return 'c'"
   ]
  },
  {
   "cell_type": "code",
   "execution_count": 56,
   "metadata": {
    "collapsed": true
   },
   "outputs": [],
   "source": [
    "def plot_confusion_matrix(cm, classes,\n",
    "                          normalize=False,\n",
    "                          title='Confusion Matrix',\n",
    "                          cmap=plt.cm.Blues):\n",
    "    \"\"\"\n",
    "    This function prints and plots the confusion matrix.\n",
    "    Normalization can be applied by setting `normalize=True`.\n",
    "    \"\"\"\n",
    "    if normalize:\n",
    "        cm = cm.astype('float') / cm.sum(axis=1)[:, np.newaxis]\n",
    "        print(\"Normalized confusion matrix\")\n",
    "    else:\n",
    "        print('Confusion matrix, without normalization')\n",
    "\n",
    "    print(cm)\n",
    "\n",
    "    plt.imshow(cm, interpolation='nearest', cmap=cmap)\n",
    "    plt.title(title)\n",
    "    plt.colorbar()\n",
    "    tick_marks = np.arange(len(classes))\n",
    "    plt.xticks(tick_marks, classes, rotation=45)\n",
    "    plt.yticks(tick_marks, classes)\n",
    "\n",
    "    fmt = '.2f' if normalize else 'd'\n",
    "    thresh = cm.max() / 2.\n",
    "    for i, j in itertools.product(range(cm.shape[0]), range(cm.shape[1])):\n",
    "        plt.text(j, i, format(cm[i, j], fmt),\n",
    "                 horizontalalignment=\"center\",\n",
    "                 color=\"white\" if cm[i, j] > thresh else \"black\")\n",
    "\n",
    "    plt.tight_layout()\n",
    "    plt.ylabel('True label')\n",
    "    plt.xlabel('Predicted label')"
   ]
  },
  {
   "cell_type": "code",
   "execution_count": 132,
   "metadata": {
    "collapsed": true
   },
   "outputs": [],
   "source": [
    "def plot_learning_curve(estimator, title, X, y, ylim=None, cv=None,\n",
    "                        n_jobs=1, train_sizes=np.linspace(.1, 1.0, 5)):\n",
    "    \"\"\"\n",
    "    Generate a simple plot of the test and traning learning curve.\n",
    "\n",
    "    Parameters\n",
    "    ----------\n",
    "    estimator : object type that implements the \"fit\" and \"predict\" methods\n",
    "        An object of that type which is cloned for each validation.\n",
    "\n",
    "    title : string\n",
    "        Title for the chart.\n",
    "\n",
    "    X : array-like, shape (n_samples, n_features)\n",
    "        Training vector, where n_samples is the number of samples and\n",
    "        n_features is the number of features.\n",
    "\n",
    "    y : array-like, shape (n_samples) or (n_samples, n_features), optional\n",
    "        Target relative to X for classification or regression;\n",
    "        None for unsupervised learning.\n",
    "\n",
    "    ylim : tuple, shape (ymin, ymax), optional\n",
    "        Defines minimum and maximum yvalues plotted.\n",
    "\n",
    "    cv : integer, cross-validation generator, optional\n",
    "        If an integer is passed, it is the number of folds (defaults to 3).\n",
    "        Specific cross-validation objects can be passed, see\n",
    "        sklearn.cross_validation module for the list of possible objects\n",
    "\n",
    "    n_jobs : integer, optional\n",
    "        Number of jobs to run in parallel (default 1).\n",
    "    \"\"\"\n",
    "    plt.figure()\n",
    "    plt.title(title)\n",
    "    if ylim is not None:\n",
    "        plt.ylim(*ylim)\n",
    "    plt.xlabel(\"Training examples\")\n",
    "    plt.ylabel(\"Score\")\n",
    "    train_sizes, train_scores, test_scores = learning_curve(\n",
    "        estimator, X, y, cv=cv, n_jobs=n_jobs, train_sizes=train_sizes)\n",
    "    train_scores_mean = np.mean(train_scores, axis=1)\n",
    "    train_scores_std = np.std(train_scores, axis=1)\n",
    "    test_scores_mean = np.mean(test_scores, axis=1)\n",
    "    test_scores_std = np.std(test_scores, axis=1)\n",
    "    plt.grid()\n",
    "\n",
    "    plt.fill_between(train_sizes, train_scores_mean - train_scores_std,\n",
    "                     train_scores_mean + train_scores_std, alpha=0.1,\n",
    "                     color=\"r\")\n",
    "    plt.fill_between(train_sizes, test_scores_mean - test_scores_std,\n",
    "                     test_scores_mean + test_scores_std, alpha=0.1, color=\"g\")\n",
    "    plt.plot(train_sizes, train_scores_mean, 'o-', color=\"r\",\n",
    "             label=\"Training score\")\n",
    "    plt.plot(train_sizes, test_scores_mean, 'o-', color=\"g\",\n",
    "             label=\"Cross-validation score\")\n",
    "\n",
    "    plt.legend(loc=\"best\")\n",
    "    return plt"
   ]
  },
  {
   "cell_type": "markdown",
   "metadata": {},
   "source": [
    "## Load all data"
   ]
  },
  {
   "cell_type": "code",
   "execution_count": 2,
   "metadata": {
    "collapsed": true
   },
   "outputs": [],
   "source": [
    "city_active_df = pd.read_excel('data/City_Programs.xlsx', skiprows = range(7), sheetname = 0)\n",
    "\n",
    "city_inactive_df_1 = pd.read_excel('data/City_Programs.xlsx', skiprows = range(9), sheetname = 1)\n",
    "city_inactive_df_2 = pd.read_excel('data/City_Programs.xlsx', skiprows = range(9), sheetname = 2)\n",
    "\n",
    "city_inactive_df = pd.concat([city_inactive_df_1, city_inactive_df_2], ignore_index=True)\n",
    "\n",
    "del [city_inactive_df_1, city_inactive_df_2]"
   ]
  },
  {
   "cell_type": "code",
   "execution_count": 3,
   "metadata": {
    "collapsed": true
   },
   "outputs": [],
   "source": [
    "state_df_0 = pd.read_excel('data/State_Programs.xlsx', skiprows = range(7), sheetname = 0) \n",
    "state_df_1 = pd.read_excel('data/State_Programs.xlsx', skiprows = range(8), sheetname = 1) \n",
    "state_df_2 = pd.read_excel('data/State_Programs.xlsx', skiprows = range(8), sheetname = 2)\n",
    "state_df_3 = pd.read_excel('data/State_Programs.xlsx', skiprows = range(8), sheetname = 3)\n",
    "state_df_4 = pd.read_excel('data/State_Programs.xlsx', skiprows = range(8), sheetname = 4)\n",
    "state_df_5 = pd.read_excel('data/State_Programs.xlsx', skiprows = range(8), sheetname = 5)\n",
    "state_df_6 = pd.read_excel('data/State_Programs.xlsx', skiprows = range(8), sheetname = 6)\n",
    "state_df_7 = pd.read_excel('data/State_Programs.xlsx', skiprows = range(8), sheetname = 7)\n",
    "state_df_8 = pd.read_excel('data/State_Programs.xlsx', skiprows = range(9), sheetname = 8)\n",
    "state_df_9 = pd.read_excel('data/State_Programs.xlsx', skiprows = range(8), sheetname = 9)\n",
    "state_df_10 = pd.read_excel('data/State_Programs.xlsx', skiprows = range(8), sheetname = 10)\n",
    "state_df_11 = pd.read_excel('data/State_Programs.xlsx', skiprows = range(8), sheetname = 11)\n",
    "state_df_12 = pd.read_excel('data/State_Programs.xlsx', skiprows = range(8), sheetname = 12)\n",
    "state_df_13 = pd.read_excel('data/State_Programs.xlsx', skiprows = range(8), sheetname = 13)\n",
    "state_df_14 = pd.read_excel('data/State_Programs.xlsx', skiprows = range(8), sheetname = 14)\n",
    "state_df_15 = pd.read_excel('data/State_Programs.xlsx', skiprows = range(8), sheetname = 15)\n",
    "state_df_16 = pd.read_excel('data/State_Programs.xlsx', skiprows = range(8), sheetname = 16)\n",
    "state_df_17 = pd.read_excel('data/State_Programs.xlsx', skiprows = range(8), sheetname = 17)\n",
    "state_df_18 = pd.read_excel('data/State_Programs.xlsx', skiprows = range(8), sheetname = 18)\n",
    "\n",
    "state_df = pd.concat([state_df_0, state_df_1, state_df_2, state_df_3, state_df_4, state_df_5, \n",
    "                      state_df_6, state_df_7, state_df_8, state_df_9, state_df_10, state_df_11, \n",
    "                      state_df_12, state_df_13, state_df_14, state_df_15, state_df_16, \n",
    "                      state_df_17, state_df_18], ignore_index=True)\n",
    "\n",
    "del [state_df_0, state_df_1, state_df_2, state_df_3, state_df_4, state_df_5, state_df_6, \n",
    "     state_df_7, state_df_8, state_df_9, state_df_10, state_df_11, state_df_12, state_df_13,\n",
    "     state_df_14, state_df_15, state_df_16, state_df_17, state_df_18]"
   ]
  },
  {
   "cell_type": "code",
   "execution_count": 4,
   "metadata": {
    "collapsed": true
   },
   "outputs": [],
   "source": [
    "complaints_df = pd.read_csv('data/complaints2017.csv') #since 1-1-2017"
   ]
  },
  {
   "cell_type": "code",
   "execution_count": 45,
   "metadata": {
    "collapsed": true
   },
   "outputs": [],
   "source": [
    "craigs_df1 = pd.read_csv('craigslist/result-jobs-multi-pages-content-FIRST.csv')\n",
    "craigs_df2 = pd.read_csv('craigslist/result-jobs-multi-pages-content.csv')\n",
    "\n",
    "craigs_df = pd.concat([craigs_df1, craigs_df2], ignore_index=True)\n",
    "\n",
    "craigs_df.shape #total number of posts, 4295\n",
    "\n",
    "del [craigs_df1, craigs_df2]\n",
    "\n",
    "craigs_df.drop_duplicates(subset = ['Title'], inplace=True)\n",
    "craigs_df.drop_duplicates(subset = ['Description'], inplace=True)\n",
    "\n",
    "#Partially labelled craigs_df\n",
    "ct_df = pd.read_csv('craigslist/craigs_tagged.csv')\n",
    "\n",
    "tagged_df = ct_df[(ct_df['Class'] == 'a') | (ct_df['Class'] == 'b') | (ct_df['Class'] == 'c')].copy()"
   ]
  },
  {
   "cell_type": "code",
   "execution_count": null,
   "metadata": {
    "collapsed": true
   },
   "outputs": [],
   "source": [
    "craigs_df.shape #total number of posts after dedupe\n",
    "ct_df.shape #total number of tagged posts"
   ]
  },
  {
   "cell_type": "code",
   "execution_count": 46,
   "metadata": {
    "collapsed": true
   },
   "outputs": [],
   "source": [
    "tagged_df.reset_index(drop = True, inplace = True)\n",
    "del tagged_df['Unnamed: 0']\n",
    "#tagged_df"
   ]
  },
  {
   "cell_type": "markdown",
   "metadata": {},
   "source": [
    "## Classify Craigslist into 3 categories"
   ]
  },
  {
   "cell_type": "code",
   "execution_count": 92,
   "metadata": {},
   "outputs": [
    {
     "data": {
      "text/plain": [
       "[307, 244, 68]"
      ]
     },
     "execution_count": 92,
     "metadata": {},
     "output_type": "execute_result"
    }
   ],
   "source": [
    "tagged_class_amounts = list(tagged_df['Class'].value_counts().values)\n",
    "tagged_class_amounts"
   ]
  },
  {
   "cell_type": "code",
   "execution_count": 96,
   "metadata": {},
   "outputs": [
    {
     "data": {
      "image/png": "[encoded data removed]",
      "text/plain": [
       "<matplotlib.figure.Figure at 0x152a52e10>"
      ]
     },
     "metadata": {},
     "output_type": "display_data"
    }
   ],
   "source": [
    "labels = 'Nannies', 'Centers', 'Other'\n",
    "sizes = tagged_class_amounts\n",
    "colors = ['yellowgreen', 'lightcoral', 'lightskyblue']\n",
    " \n",
    "plt.pie(sizes, labels=labels, colors=colors,\n",
    "        autopct='%1.1f%%', shadow=True, startangle=140)\n",
    "plt.title('Labeled Classes')\n",
    " \n",
    "plt.axis('equal')\n",
    "plt.show()"
   ]
  },
  {
   "cell_type": "markdown",
   "metadata": {},
   "source": [
    "### First a simple keyword search"
   ]
  },
  {
   "cell_type": "code",
   "execution_count": 49,
   "metadata": {
    "collapsed": true
   },
   "outputs": [],
   "source": [
    "#tagged_df.assign(Key_search = 'z') #only do if haven't made a copy\n",
    "tagged_df['Key_search'] = 'z'\n",
    "tagged_df['Key_search'] = tagged_df['Description'].apply(first_classifier)"
   ]
  },
  {
   "cell_type": "code",
   "execution_count": 52,
   "metadata": {},
   "outputs": [
    {
     "data": {
      "text/plain": [
       "b    246\n",
       "a    227\n",
       "c    146\n",
       "Name: Key_search, dtype: int64"
      ]
     },
     "execution_count": 52,
     "metadata": {},
     "output_type": "execute_result"
    }
   ],
   "source": [
    "tagged_df['Key_search'].value_counts()"
   ]
  },
  {
   "cell_type": "code",
   "execution_count": 53,
   "metadata": {},
   "outputs": [
    {
     "data": {
      "text/plain": [
       "0.78190630048465271"
      ]
     },
     "execution_count": 53,
     "metadata": {},
     "output_type": "execute_result"
    }
   ],
   "source": [
    "metrics.accuracy_score(tagged_df['Class'], tagged_df['Key_search'])"
   ]
  },
  {
   "cell_type": "code",
   "execution_count": 55,
   "metadata": {},
   "outputs": [
    {
     "name": "stdout",
     "output_type": "stream",
     "text": [
      "[[193   6  45]\n",
      " [ 23 237  47]\n",
      " [ 11   3  54]]\n"
     ]
    }
   ],
   "source": [
    "cm_keyword = metrics.confusion_matrix(tagged_df['Class'], tagged_df['Key_search'])\n",
    "print cm_keyword"
   ]
  },
  {
   "cell_type": "code",
   "execution_count": 126,
   "metadata": {},
   "outputs": [
    {
     "name": "stdout",
     "output_type": "stream",
     "text": [
      "Normalized confusion matrix\n",
      "[[ 0.79098361  0.02459016  0.18442623]\n",
      " [ 0.07491857  0.77198697  0.15309446]\n",
      " [ 0.16176471  0.04411765  0.79411765]]\n"
     ]
    },
    {
     "data": {
      "image/png": "[encoded data removed]",
      "text/plain": [
       "<matplotlib.figure.Figure at 0x11a91b410>"
      ]
     },
     "metadata": {},
     "output_type": "display_data"
    }
   ],
   "source": [
    "plot_confusion_matrix(cm_keyword, ['Center', 'Nanny', 'Other'], normalize = True)"
   ]
  },
  {
   "cell_type": "markdown",
   "metadata": {},
   "source": [
    "### Now for Logistic Regression Classifier"
   ]
  },
  {
   "cell_type": "code",
   "execution_count": 74,
   "metadata": {
    "collapsed": true
   },
   "outputs": [],
   "source": [
    "cl_target = list(tagged_df['Class'].values) \n",
    "cl_data = list(tagged_df['Description'].values)"
   ]
  },
  {
   "cell_type": "code",
   "execution_count": 75,
   "metadata": {
    "collapsed": true
   },
   "outputs": [],
   "source": [
    "trial_LR = Pipeline([\n",
    "    ('vectorizer', TfidfVectorizer(stop_words=stopwords.words('english'),\n",
    "                            ngram_range = (1, 3))), #min_df=5,\n",
    "    ('classifier', LogisticRegression()),\n",
    "])"
   ]
  },
  {
   "cell_type": "code",
   "execution_count": 81,
   "metadata": {},
   "outputs": [
    {
     "name": "stdout",
     "output_type": "stream",
     "text": [
      "0.877419354839\n"
     ]
    }
   ],
   "source": [
    "X_train, X_test, y_train, y_test = train_test_split(cl_data, cl_target, test_size=0.25, random_state=33)\n",
    "trial_LR.fit(X_train, y_train)\n",
    "print trial_LR.score(X_test, y_test)"
   ]
  },
  {
   "cell_type": "code",
   "execution_count": 124,
   "metadata": {},
   "outputs": [
    {
     "name": "stdout",
     "output_type": "stream",
     "text": [
      "Accuracy: 0.85 (+/- 0.03)\n"
     ]
    }
   ],
   "source": [
    "scores_LR = cross_val_score(trial_LR, cl_data, cl_target, cv=5)\n",
    "print(\"Accuracy: %0.2f (+/- %0.2f)\" % (scores_LR.mean(), scores_LR.std() * 2))"
   ]
  },
  {
   "cell_type": "code",
   "execution_count": 70,
   "metadata": {
    "collapsed": true
   },
   "outputs": [],
   "source": [
    "out_LR = trial_LR.predict(X_train)"
   ]
  },
  {
   "cell_type": "code",
   "execution_count": 78,
   "metadata": {},
   "outputs": [
    {
     "name": "stdout",
     "output_type": "stream",
     "text": [
      "[[191   2   0]\n",
      " [  1 218   0]\n",
      " [  9  33  10]]\n"
     ]
    }
   ],
   "source": [
    "cm_LR = metrics.confusion_matrix(y_train, pd.Series(out_LR))\n",
    "print cm_LR\n",
    "#might need to test keyword on y_train instead of whole set\n",
    "#try to cross validate"
   ]
  },
  {
   "cell_type": "code",
   "execution_count": 125,
   "metadata": {},
   "outputs": [
    {
     "name": "stdout",
     "output_type": "stream",
     "text": [
      "Normalized confusion matrix\n",
      "[[ 0.98963731  0.01036269  0.        ]\n",
      " [ 0.00456621  0.99543379  0.        ]\n",
      " [ 0.17307692  0.63461538  0.19230769]]\n"
     ]
    },
    {
     "data": {
      "image/png": "[encoded data removed]",
      "text/plain": [
       "<matplotlib.figure.Figure at 0x119f85d50>"
      ]
     },
     "metadata": {},
     "output_type": "display_data"
    }
   ],
   "source": [
    "plot_confusion_matrix(cm_LR, ['Center', 'Nanny', 'Other'], normalize = True)"
   ]
  },
  {
   "cell_type": "code",
   "execution_count": 145,
   "metadata": {
    "collapsed": true
   },
   "outputs": [],
   "source": [
    "cv_LR = cross_validation.ShuffleSplit(len(cl_data), n_iter=100,\n",
    "                                   test_size=0.2, random_state=0)"
   ]
  },
  {
   "cell_type": "code",
   "execution_count": 146,
   "metadata": {},
   "outputs": [
    {
     "name": "stdout",
     "output_type": "stream",
     "text": [
      "CPU times: user 6.29 s, sys: 960 ms, total: 7.25 s\n",
      "Wall time: 48.5 s\n"
     ]
    },
    {
     "data": {
      "text/plain": [
       "<module 'matplotlib.pyplot' from '/Users/MF/anaconda/lib/python2.7/site-packages/matplotlib/pyplot.pyc'>"
      ]
     },
     "execution_count": 146,
     "metadata": {},
     "output_type": "execute_result"
    },
    {
     "data": {
      "image/png": "[encoded data removed]",
      "text/plain": [
       "<matplotlib.figure.Figure at 0x152883190>"
      ]
     },
     "metadata": {},
     "output_type": "display_data"
    }
   ],
   "source": [
    "%%time\n",
    "plot_learning_curve(trial_LR, 'Logistic Regression Learning Curve', cl_data, cl_target, cv=cv_LR, n_jobs=4)"
   ]
  },
  {
   "cell_type": "markdown",
   "metadata": {},
   "source": [
    "### Also try SVM classifier"
   ]
  },
  {
   "cell_type": "code",
   "execution_count": 98,
   "metadata": {
    "collapsed": true
   },
   "outputs": [],
   "source": [
    "trial_SVM = Pipeline([\n",
    "    ('vectorizer', TfidfVectorizer(stop_words=stopwords.words('english'),\n",
    "                             min_df=5, ngram_range = (1, 3))),\n",
    "    ('classifier', svm.SVC(kernel='linear')),\n",
    "])"
   ]
  },
  {
   "cell_type": "code",
   "execution_count": 103,
   "metadata": {},
   "outputs": [
    {
     "name": "stdout",
     "output_type": "stream",
     "text": [
      "0.896774193548\n"
     ]
    }
   ],
   "source": [
    "X_train, X_test, y_train, y_test = train_test_split(cl_data, cl_target, test_size=0.25, random_state=33)\n",
    "trial_SVM.fit(X_train, y_train)\n",
    "print trial_SVM.score(X_test, y_test)"
   ]
  },
  {
   "cell_type": "code",
   "execution_count": 107,
   "metadata": {
    "collapsed": true
   },
   "outputs": [],
   "source": [
    "out_SVM = trial_SVM.predict(X_train)"
   ]
  },
  {
   "cell_type": "code",
   "execution_count": 108,
   "metadata": {},
   "outputs": [
    {
     "name": "stdout",
     "output_type": "stream",
     "text": [
      "[[189   3   1]\n",
      " [  1 217   1]\n",
      " [  0   4  48]]\n"
     ]
    }
   ],
   "source": [
    "cm_SVM = metrics.confusion_matrix(y_train, pd.Series(out_SVM))\n",
    "print cm_SVM"
   ]
  },
  {
   "cell_type": "code",
   "execution_count": 109,
   "metadata": {},
   "outputs": [
    {
     "name": "stdout",
     "output_type": "stream",
     "text": [
      "Normalized confusion matrix\n",
      "[[ 0.97927461  0.01554404  0.00518135]\n",
      " [ 0.00456621  0.99086758  0.00456621]\n",
      " [ 0.          0.07692308  0.92307692]]\n"
     ]
    },
    {
     "data": {
      "image/png": "[encoded data removed]",
      "text/plain": [
       "<matplotlib.figure.Figure at 0x11d30a210>"
      ]
     },
     "metadata": {},
     "output_type": "display_data"
    }
   ],
   "source": [
    "plot_confusion_matrix(cm_SVM, ['Center', 'Nanny', 'Other'], normalize = True)"
   ]
  },
  {
   "cell_type": "code",
   "execution_count": 120,
   "metadata": {
    "collapsed": true
   },
   "outputs": [],
   "source": [
    "scores_SVM = cross_val_score(trial_SVM, cl_data, cl_target, cv=5)"
   ]
  },
  {
   "cell_type": "code",
   "execution_count": 121,
   "metadata": {},
   "outputs": [
    {
     "name": "stdout",
     "output_type": "stream",
     "text": [
      "Accuracy: 0.88 (+/- 0.04)\n"
     ]
    }
   ],
   "source": [
    "print(\"Accuracy: %0.2f (+/- %0.2f)\" % (scores_SVM.mean(), scores_SVM.std() * 2)) #accuracy conf int"
   ]
  },
  {
   "cell_type": "code",
   "execution_count": 143,
   "metadata": {
    "collapsed": true
   },
   "outputs": [],
   "source": [
    "cv_SVM = cross_validation.ShuffleSplit(len(cl_data), n_iter=50,\n",
    "                                   test_size=0.2, random_state=1)"
   ]
  },
  {
   "cell_type": "code",
   "execution_count": 144,
   "metadata": {},
   "outputs": [
    {
     "name": "stdout",
     "output_type": "stream",
     "text": [
      "CPU times: user 2.46 s, sys: 394 ms, total: 2.85 s\n",
      "Wall time: 29.6 s\n"
     ]
    },
    {
     "data": {
      "text/plain": [
       "<module 'matplotlib.pyplot' from '/Users/MF/anaconda/lib/python2.7/site-packages/matplotlib/pyplot.pyc'>"
      ]
     },
     "execution_count": 144,
     "metadata": {},
     "output_type": "execute_result"
    },
    {
     "data": {
      "image/png": "[encoded data removed]",
      "text/plain": [
       "<matplotlib.figure.Figure at 0x119c046d0>"
      ]
     },
     "metadata": {},
     "output_type": "display_data"
    }
   ],
   "source": [
    "%%time\n",
    "plot_learning_curve(trial_SVM, 'SVM Learning Curve', cl_data, cl_target, cv=cv_SVM, n_jobs=4)"
   ]
  },
  {
   "cell_type": "markdown",
   "metadata": {},
   "source": [
    "## Classify Childcare posts into Legal, Known Illegal, and Unknown"
   ]
  },
  {
   "cell_type": "code",
   "execution_count": 134,
   "metadata": {},
   "outputs": [
    {
     "data": {
      "text/plain": [
       "619"
      ]
     },
     "execution_count": 134,
     "metadata": {},
     "output_type": "execute_result"
    }
   ],
   "source": [
    "len(cl_data)"
   ]
  },
  {
   "cell_type": "code",
   "execution_count": null,
   "metadata": {
    "collapsed": true
   },
   "outputs": [],
   "source": []
  }
 ],
 "metadata": {
  "kernelspec": {
   "display_name": "Python 2",
   "language": "python",
   "name": "python2"
  },
  "language_info": {
   "codemirror_mode": {
    "name": "ipython",
    "version": 2
   },
   "file_extension": ".py",
   "mimetype": "text/x-python",
   "name": "python",
   "nbconvert_exporter": "python",
   "pygments_lexer": "ipython2",
   "version": "2.7.13"
  }
 },
 "nbformat": 4,
 "nbformat_minor": 2
}
